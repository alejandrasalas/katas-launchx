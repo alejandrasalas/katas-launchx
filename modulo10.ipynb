{
 "cells": [
  {
   "cell_type": "code",
   "execution_count": 7,
   "metadata": {},
   "outputs": [
    {
     "name": "stdout",
     "output_type": "stream",
     "text": [
      "Los tipos de datos tienen que ser enteros\n"
     ]
    },
    {
     "data": {
      "text/plain": [
       "'Total water left after 12 days is: -296 liters'"
      ]
     },
     "execution_count": 7,
     "metadata": {},
     "output_type": "execute_result"
    }
   ],
   "source": [
    "def water_left(astronauts, water_left, days_left):\n",
    "    try:\n",
    "        daily_usage = astronauts * 11\n",
    "        total_usage = daily_usage * days_left\n",
    "        total_water_left = water_left - total_usage\n",
    "        return f\"Total water left after {days_left} days is: {total_water_left} liters\"\n",
    "    except TypeError: \n",
    "        print(\"Los tipos de datos tienen que ser enteros\")\n",
    "\n",
    "water_left(\"3\",\"100\",None)\n",
    "water_left(3,100,12)"
   ]
  },
  {
   "cell_type": "code",
   "execution_count": null,
   "metadata": {},
   "outputs": [],
   "source": []
  }
 ],
 "metadata": {
  "interpreter": {
   "hash": "b89b5cfaba6639976dc87ff2fec6d58faec662063367e2c229c520fe71072417"
  },
  "kernelspec": {
   "display_name": "Python 3.10.2 64-bit",
   "language": "python",
   "name": "python3"
  },
  "language_info": {
   "codemirror_mode": {
    "name": "ipython",
    "version": 3
   },
   "file_extension": ".py",
   "mimetype": "text/x-python",
   "name": "python",
   "nbconvert_exporter": "python",
   "pygments_lexer": "ipython3",
   "version": "3.10.2"
  },
  "orig_nbformat": 4
 },
 "nbformat": 4,
 "nbformat_minor": 2
}
